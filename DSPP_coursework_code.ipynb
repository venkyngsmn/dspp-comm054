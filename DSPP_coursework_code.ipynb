{
 "cells": [
  {
   "cell_type": "markdown",
   "metadata": {},
   "source": [
    "# Coursework - Data Science Principles and Practices\n",
    "\n",
    "Name - Venkatesh Nagasubramanian  \n",
    "URN - 6721597  \n",
    "e-mail - vn00197@surrey.ac.uk\n",
    "\n",
    "This notebook contains the coursework of Data Science Principles and Practices. The task of this coursework is to perform classification and validation on the breast cancer dataset, where you classify each cell on whether it is benign or malignant. "
   ]
  },
  {
   "cell_type": "markdown",
   "metadata": {
    "id": "Pj0laUqPY6Vf"
   },
   "source": [
    "## Import the libraries"
   ]
  },
  {
   "cell_type": "markdown",
   "metadata": {},
   "source": [
    "Some packages and inbuilt libraries have been used in this coursework to acheive the task. The libraries imported are:\n",
    "- ***Numpy*** : Numpy is a package that is mainly used to do numerical calculations. This can help create arrays, matrices and make complex arithmetic calculations much easier. \n",
    "- ***Pandas*** : Pandas helps us with managing the data, and performing data analysis on the dataset. \n",
    "- ***Matplotlib*** : Matplotlib is a data visualisation library. This will help generate bar charts, line charts, etc.\n",
    "- ***Seaborn*** : Seaborn also is a data visualisation library, but it is a bit advanced and helps create box plots, heatmaps, etc. The ```sns.set()``` command is used to make the charts more attractive.\n",
    "- ***sci-kit learn*** : The sci-kit learn module, or the sklearn module is used for basic machine learning tasks, we will be using this module for our the models"
   ]
  },
  {
   "cell_type": "code",
   "execution_count": 1,
   "metadata": {
    "executionInfo": {
     "elapsed": 314,
     "status": "ok",
     "timestamp": 1671913258918,
     "user": {
      "displayName": "Venkatesh Nagasubramanian",
      "userId": "06459212537511408815"
     },
     "user_tz": 0
    },
    "id": "4MhJGHwhY2v5"
   },
   "outputs": [],
   "source": [
    "import numpy as np\n",
    "import pandas as pd\n",
    "import matplotlib.pyplot as plt\n",
    "import seaborn as sns\n",
    "sns.set() # for the magic in the charts"
   ]
  },
  {
   "cell_type": "markdown",
   "metadata": {},
   "source": [
    "## Import the dataset\n",
    "\n",
    "The dataset given to us is the breast cancer dataset. This data is enclosed as a .csv file. The same is imported below using the pandas command, ```pd.read_csv('filename')```"
   ]
  },
  {
   "cell_type": "code",
   "execution_count": 2,
   "metadata": {
    "colab": {
     "base_uri": "https://localhost:8080/",
     "height": 300
    },
    "executionInfo": {
     "elapsed": 408,
     "status": "ok",
     "timestamp": 1671914127322,
     "user": {
      "displayName": "Venkatesh Nagasubramanian",
      "userId": "06459212537511408815"
     },
     "user_tz": 0
    },
    "id": "4wOV3TkXk267",
    "outputId": "fa0708b4-9ac6-4fdd-c1c1-1b38e8ad87c2"
   },
   "outputs": [
    {
     "data": {
      "text/html": [
       "<div>\n",
       "<style scoped>\n",
       "    .dataframe tbody tr th:only-of-type {\n",
       "        vertical-align: middle;\n",
       "    }\n",
       "\n",
       "    .dataframe tbody tr th {\n",
       "        vertical-align: top;\n",
       "    }\n",
       "\n",
       "    .dataframe thead th {\n",
       "        text-align: right;\n",
       "    }\n",
       "</style>\n",
       "<table border=\"1\" class=\"dataframe\">\n",
       "  <thead>\n",
       "    <tr style=\"text-align: right;\">\n",
       "      <th></th>\n",
       "      <th>Cl.thickness</th>\n",
       "      <th>Cell.size</th>\n",
       "      <th>Cell.shape</th>\n",
       "      <th>Marg.adhesion</th>\n",
       "      <th>Epith.c.size</th>\n",
       "      <th>Bare.nuclei</th>\n",
       "      <th>Bl.cromatin</th>\n",
       "      <th>Normal.nucleoli</th>\n",
       "      <th>Mitoses</th>\n",
       "      <th>Class</th>\n",
       "    </tr>\n",
       "  </thead>\n",
       "  <tbody>\n",
       "    <tr>\n",
       "      <th>0</th>\n",
       "      <td>4.454847</td>\n",
       "      <td>2.386095</td>\n",
       "      <td>2.295170</td>\n",
       "      <td>2.530536</td>\n",
       "      <td>2.723036</td>\n",
       "      <td>2.393815</td>\n",
       "      <td>3.582104</td>\n",
       "      <td>2.591299</td>\n",
       "      <td>3.199268</td>\n",
       "      <td>0</td>\n",
       "    </tr>\n",
       "    <tr>\n",
       "      <th>1</th>\n",
       "      <td>4.454847</td>\n",
       "      <td>4.637212</td>\n",
       "      <td>4.603958</td>\n",
       "      <td>5.742196</td>\n",
       "      <td>7.896027</td>\n",
       "      <td>8.074609</td>\n",
       "      <td>3.582104</td>\n",
       "      <td>3.344739</td>\n",
       "      <td>3.199268</td>\n",
       "      <td>0</td>\n",
       "    </tr>\n",
       "    <tr>\n",
       "      <th>2</th>\n",
       "      <td>2.824082</td>\n",
       "      <td>2.386095</td>\n",
       "      <td>2.295170</td>\n",
       "      <td>2.530536</td>\n",
       "      <td>2.723036</td>\n",
       "      <td>3.025014</td>\n",
       "      <td>3.582104</td>\n",
       "      <td>2.591299</td>\n",
       "      <td>3.199268</td>\n",
       "      <td>0</td>\n",
       "    </tr>\n",
       "    <tr>\n",
       "      <th>3</th>\n",
       "      <td>5.270230</td>\n",
       "      <td>7.638702</td>\n",
       "      <td>7.682342</td>\n",
       "      <td>2.530536</td>\n",
       "      <td>3.757634</td>\n",
       "      <td>4.287413</td>\n",
       "      <td>3.582104</td>\n",
       "      <td>7.111938</td>\n",
       "      <td>3.199268</td>\n",
       "      <td>0</td>\n",
       "    </tr>\n",
       "    <tr>\n",
       "      <th>4</th>\n",
       "      <td>3.639465</td>\n",
       "      <td>2.386095</td>\n",
       "      <td>2.295170</td>\n",
       "      <td>4.136366</td>\n",
       "      <td>2.723036</td>\n",
       "      <td>2.393815</td>\n",
       "      <td>3.582104</td>\n",
       "      <td>2.591299</td>\n",
       "      <td>3.199268</td>\n",
       "      <td>0</td>\n",
       "    </tr>\n",
       "    <tr>\n",
       "      <th>...</th>\n",
       "      <td>...</td>\n",
       "      <td>...</td>\n",
       "      <td>...</td>\n",
       "      <td>...</td>\n",
       "      <td>...</td>\n",
       "      <td>...</td>\n",
       "      <td>...</td>\n",
       "      <td>...</td>\n",
       "      <td>...</td>\n",
       "      <td>...</td>\n",
       "    </tr>\n",
       "    <tr>\n",
       "      <th>678</th>\n",
       "      <td>2.824082</td>\n",
       "      <td>2.386095</td>\n",
       "      <td>2.295170</td>\n",
       "      <td>2.530536</td>\n",
       "      <td>3.757634</td>\n",
       "      <td>3.025014</td>\n",
       "      <td>1.704320</td>\n",
       "      <td>2.591299</td>\n",
       "      <td>3.199268</td>\n",
       "      <td>0</td>\n",
       "    </tr>\n",
       "    <tr>\n",
       "      <th>679</th>\n",
       "      <td>2.008699</td>\n",
       "      <td>2.386095</td>\n",
       "      <td>2.295170</td>\n",
       "      <td>2.530536</td>\n",
       "      <td>2.723036</td>\n",
       "      <td>2.393815</td>\n",
       "      <td>1.704320</td>\n",
       "      <td>2.591299</td>\n",
       "      <td>3.199268</td>\n",
       "      <td>0</td>\n",
       "    </tr>\n",
       "    <tr>\n",
       "      <th>680</th>\n",
       "      <td>4.454847</td>\n",
       "      <td>9.139446</td>\n",
       "      <td>9.221535</td>\n",
       "      <td>4.136366</td>\n",
       "      <td>7.896027</td>\n",
       "      <td>3.656214</td>\n",
       "      <td>8.276563</td>\n",
       "      <td>9.372257</td>\n",
       "      <td>4.526695</td>\n",
       "      <td>1</td>\n",
       "    </tr>\n",
       "    <tr>\n",
       "      <th>681</th>\n",
       "      <td>3.639465</td>\n",
       "      <td>7.638702</td>\n",
       "      <td>6.143150</td>\n",
       "      <td>4.939281</td>\n",
       "      <td>3.757634</td>\n",
       "      <td>4.287413</td>\n",
       "      <td>10.154346</td>\n",
       "      <td>6.358498</td>\n",
       "      <td>3.199268</td>\n",
       "      <td>1</td>\n",
       "    </tr>\n",
       "    <tr>\n",
       "      <th>682</th>\n",
       "      <td>3.639465</td>\n",
       "      <td>7.638702</td>\n",
       "      <td>7.682342</td>\n",
       "      <td>5.742196</td>\n",
       "      <td>4.792233</td>\n",
       "      <td>4.918612</td>\n",
       "      <td>10.154346</td>\n",
       "      <td>4.851618</td>\n",
       "      <td>3.199268</td>\n",
       "      <td>1</td>\n",
       "    </tr>\n",
       "  </tbody>\n",
       "</table>\n",
       "<p>683 rows × 10 columns</p>\n",
       "</div>"
      ],
      "text/plain": [
       "     Cl.thickness  Cell.size  Cell.shape  Marg.adhesion  Epith.c.size  \\\n",
       "0        4.454847   2.386095    2.295170       2.530536      2.723036   \n",
       "1        4.454847   4.637212    4.603958       5.742196      7.896027   \n",
       "2        2.824082   2.386095    2.295170       2.530536      2.723036   \n",
       "3        5.270230   7.638702    7.682342       2.530536      3.757634   \n",
       "4        3.639465   2.386095    2.295170       4.136366      2.723036   \n",
       "..            ...        ...         ...            ...           ...   \n",
       "678      2.824082   2.386095    2.295170       2.530536      3.757634   \n",
       "679      2.008699   2.386095    2.295170       2.530536      2.723036   \n",
       "680      4.454847   9.139446    9.221535       4.136366      7.896027   \n",
       "681      3.639465   7.638702    6.143150       4.939281      3.757634   \n",
       "682      3.639465   7.638702    7.682342       5.742196      4.792233   \n",
       "\n",
       "     Bare.nuclei  Bl.cromatin  Normal.nucleoli   Mitoses  Class  \n",
       "0       2.393815     3.582104         2.591299  3.199268      0  \n",
       "1       8.074609     3.582104         3.344739  3.199268      0  \n",
       "2       3.025014     3.582104         2.591299  3.199268      0  \n",
       "3       4.287413     3.582104         7.111938  3.199268      0  \n",
       "4       2.393815     3.582104         2.591299  3.199268      0  \n",
       "..           ...          ...              ...       ...    ...  \n",
       "678     3.025014     1.704320         2.591299  3.199268      0  \n",
       "679     2.393815     1.704320         2.591299  3.199268      0  \n",
       "680     3.656214     8.276563         9.372257  4.526695      1  \n",
       "681     4.287413    10.154346         6.358498  3.199268      1  \n",
       "682     4.918612    10.154346         4.851618  3.199268      1  \n",
       "\n",
       "[683 rows x 10 columns]"
      ]
     },
     "execution_count": 2,
     "metadata": {},
     "output_type": "execute_result"
    }
   ],
   "source": [
    "data = pd.read_csv('cancerdata.csv')\n",
    "data_copy = data # taking a copy of the data just in case\n",
    "data"
   ]
  },
  {
   "cell_type": "markdown",
   "metadata": {},
   "source": [
    "## Data Analysis\n",
    "\n",
    "A general summary of the data is also provided below. Later, the dataset is checked for any null values. However, there were none of them. The correlation between each of the columns is given as a table. As we are only interested in the correlation of the values with the class, we are only plotting the correlation with the class column.\n",
    "\n",
    "The data contains 9 columns, including the class column where it says whether the cell is benign(0) or malignant(1). "
   ]
  },
  {
   "cell_type": "code",
   "execution_count": 3,
   "metadata": {},
   "outputs": [
    {
     "data": {
      "text/html": [
       "<div>\n",
       "<style scoped>\n",
       "    .dataframe tbody tr th:only-of-type {\n",
       "        vertical-align: middle;\n",
       "    }\n",
       "\n",
       "    .dataframe tbody tr th {\n",
       "        vertical-align: top;\n",
       "    }\n",
       "\n",
       "    .dataframe thead th {\n",
       "        text-align: right;\n",
       "    }\n",
       "</style>\n",
       "<table border=\"1\" class=\"dataframe\">\n",
       "  <thead>\n",
       "    <tr style=\"text-align: right;\">\n",
       "      <th></th>\n",
       "      <th>Cl.thickness</th>\n",
       "      <th>Cell.size</th>\n",
       "      <th>Cell.shape</th>\n",
       "      <th>Marg.adhesion</th>\n",
       "      <th>Epith.c.size</th>\n",
       "      <th>Bare.nuclei</th>\n",
       "      <th>Bl.cromatin</th>\n",
       "      <th>Normal.nucleoli</th>\n",
       "      <th>Mitoses</th>\n",
       "      <th>Class</th>\n",
       "    </tr>\n",
       "  </thead>\n",
       "  <tbody>\n",
       "    <tr>\n",
       "      <th>count</th>\n",
       "      <td>683.000000</td>\n",
       "      <td>683.000000</td>\n",
       "      <td>683.000000</td>\n",
       "      <td>683.000000</td>\n",
       "      <td>683.000000</td>\n",
       "      <td>683.000000</td>\n",
       "      <td>683.000000</td>\n",
       "      <td>683.000000</td>\n",
       "      <td>683.000000</td>\n",
       "      <td>683.000000</td>\n",
       "    </tr>\n",
       "    <tr>\n",
       "      <th>mean</th>\n",
       "      <td>4.000000</td>\n",
       "      <td>4.000000</td>\n",
       "      <td>4.000000</td>\n",
       "      <td>4.000000</td>\n",
       "      <td>4.000000</td>\n",
       "      <td>4.000000</td>\n",
       "      <td>4.000000</td>\n",
       "      <td>4.000000</td>\n",
       "      <td>4.000000</td>\n",
       "      <td>0.349927</td>\n",
       "    </tr>\n",
       "    <tr>\n",
       "      <th>std</th>\n",
       "      <td>2.300000</td>\n",
       "      <td>2.300000</td>\n",
       "      <td>2.300000</td>\n",
       "      <td>2.300000</td>\n",
       "      <td>2.300000</td>\n",
       "      <td>2.300000</td>\n",
       "      <td>2.300000</td>\n",
       "      <td>2.300000</td>\n",
       "      <td>2.300000</td>\n",
       "      <td>0.477296</td>\n",
       "    </tr>\n",
       "    <tr>\n",
       "      <th>min</th>\n",
       "      <td>1.193317</td>\n",
       "      <td>2.386095</td>\n",
       "      <td>2.295170</td>\n",
       "      <td>2.530536</td>\n",
       "      <td>1.688438</td>\n",
       "      <td>2.393815</td>\n",
       "      <td>1.704320</td>\n",
       "      <td>2.591299</td>\n",
       "      <td>3.199268</td>\n",
       "      <td>0.000000</td>\n",
       "    </tr>\n",
       "    <tr>\n",
       "      <th>25%</th>\n",
       "      <td>2.008699</td>\n",
       "      <td>2.386095</td>\n",
       "      <td>2.295170</td>\n",
       "      <td>2.530536</td>\n",
       "      <td>2.723036</td>\n",
       "      <td>2.393815</td>\n",
       "      <td>2.643212</td>\n",
       "      <td>2.591299</td>\n",
       "      <td>3.199268</td>\n",
       "      <td>0.000000</td>\n",
       "    </tr>\n",
       "    <tr>\n",
       "      <th>50%</th>\n",
       "      <td>3.639465</td>\n",
       "      <td>2.386095</td>\n",
       "      <td>2.295170</td>\n",
       "      <td>2.530536</td>\n",
       "      <td>2.723036</td>\n",
       "      <td>2.393815</td>\n",
       "      <td>3.582104</td>\n",
       "      <td>2.591299</td>\n",
       "      <td>3.199268</td>\n",
       "      <td>0.000000</td>\n",
       "    </tr>\n",
       "    <tr>\n",
       "      <th>75%</th>\n",
       "      <td>5.270230</td>\n",
       "      <td>5.387585</td>\n",
       "      <td>5.373554</td>\n",
       "      <td>4.939281</td>\n",
       "      <td>4.792233</td>\n",
       "      <td>5.549811</td>\n",
       "      <td>5.459887</td>\n",
       "      <td>4.851618</td>\n",
       "      <td>3.199268</td>\n",
       "      <td>1.000000</td>\n",
       "    </tr>\n",
       "    <tr>\n",
       "      <th>max</th>\n",
       "      <td>8.531761</td>\n",
       "      <td>9.139446</td>\n",
       "      <td>9.221535</td>\n",
       "      <td>9.756771</td>\n",
       "      <td>10.999821</td>\n",
       "      <td>8.074609</td>\n",
       "      <td>10.154346</td>\n",
       "      <td>9.372257</td>\n",
       "      <td>15.146119</td>\n",
       "      <td>1.000000</td>\n",
       "    </tr>\n",
       "  </tbody>\n",
       "</table>\n",
       "</div>"
      ],
      "text/plain": [
       "       Cl.thickness   Cell.size  Cell.shape  Marg.adhesion  Epith.c.size  \\\n",
       "count    683.000000  683.000000  683.000000     683.000000    683.000000   \n",
       "mean       4.000000    4.000000    4.000000       4.000000      4.000000   \n",
       "std        2.300000    2.300000    2.300000       2.300000      2.300000   \n",
       "min        1.193317    2.386095    2.295170       2.530536      1.688438   \n",
       "25%        2.008699    2.386095    2.295170       2.530536      2.723036   \n",
       "50%        3.639465    2.386095    2.295170       2.530536      2.723036   \n",
       "75%        5.270230    5.387585    5.373554       4.939281      4.792233   \n",
       "max        8.531761    9.139446    9.221535       9.756771     10.999821   \n",
       "\n",
       "       Bare.nuclei  Bl.cromatin  Normal.nucleoli     Mitoses       Class  \n",
       "count   683.000000   683.000000       683.000000  683.000000  683.000000  \n",
       "mean      4.000000     4.000000         4.000000    4.000000    0.349927  \n",
       "std       2.300000     2.300000         2.300000    2.300000    0.477296  \n",
       "min       2.393815     1.704320         2.591299    3.199268    0.000000  \n",
       "25%       2.393815     2.643212         2.591299    3.199268    0.000000  \n",
       "50%       2.393815     3.582104         2.591299    3.199268    0.000000  \n",
       "75%       5.549811     5.459887         4.851618    3.199268    1.000000  \n",
       "max       8.074609    10.154346         9.372257   15.146119    1.000000  "
      ]
     },
     "execution_count": 3,
     "metadata": {},
     "output_type": "execute_result"
    }
   ],
   "source": [
    "data.describe()"
   ]
  },
  {
   "cell_type": "code",
   "execution_count": 4,
   "metadata": {
    "colab": {
     "base_uri": "https://localhost:8080/"
    },
    "executionInfo": {
     "elapsed": 8,
     "status": "ok",
     "timestamp": 1671914127524,
     "user": {
      "displayName": "Venkatesh Nagasubramanian",
      "userId": "06459212537511408815"
     },
     "user_tz": 0
    },
    "id": "uWYfKpMHnplb",
    "outputId": "2da403af-821f-455b-b8e9-306692e155ea"
   },
   "outputs": [
    {
     "name": "stdout",
     "output_type": "stream",
     "text": [
      "<class 'pandas.core.frame.DataFrame'>\n",
      "RangeIndex: 683 entries, 0 to 682\n",
      "Data columns (total 10 columns):\n",
      " #   Column           Non-Null Count  Dtype  \n",
      "---  ------           --------------  -----  \n",
      " 0   Cl.thickness     683 non-null    float64\n",
      " 1   Cell.size        683 non-null    float64\n",
      " 2   Cell.shape       683 non-null    float64\n",
      " 3   Marg.adhesion    683 non-null    float64\n",
      " 4   Epith.c.size     683 non-null    float64\n",
      " 5   Bare.nuclei      683 non-null    float64\n",
      " 6   Bl.cromatin      683 non-null    float64\n",
      " 7   Normal.nucleoli  683 non-null    float64\n",
      " 8   Mitoses          683 non-null    float64\n",
      " 9   Class            683 non-null    int64  \n",
      "dtypes: float64(9), int64(1)\n",
      "memory usage: 53.5 KB\n"
     ]
    }
   ],
   "source": [
    "data.info()"
   ]
  },
  {
   "cell_type": "code",
   "execution_count": 5,
   "metadata": {},
   "outputs": [
    {
     "data": {
      "text/plain": [
       "239"
      ]
     },
     "execution_count": 5,
     "metadata": {},
     "output_type": "execute_result"
    }
   ],
   "source": [
    "data['Class'].sum() # Shows the number of malignant cases in the data"
   ]
  },
  {
   "cell_type": "markdown",
   "metadata": {},
   "source": [
    "The ```df.corr()``` outputs the correlation between two columns as a table shown below. The correlation method here is the Pearson correlation method."
   ]
  },
  {
   "cell_type": "code",
   "execution_count": 6,
   "metadata": {
    "colab": {
     "base_uri": "https://localhost:8080/",
     "height": 363
    },
    "executionInfo": {
     "elapsed": 225,
     "status": "ok",
     "timestamp": 1671914306044,
     "user": {
      "displayName": "Venkatesh Nagasubramanian",
      "userId": "06459212537511408815"
     },
     "user_tz": 0
    },
    "id": "FBRJuCWc0GQS",
    "outputId": "57adb0db-728b-4214-9fd4-86ad8f964036"
   },
   "outputs": [
    {
     "data": {
      "text/html": [
       "<div>\n",
       "<style scoped>\n",
       "    .dataframe tbody tr th:only-of-type {\n",
       "        vertical-align: middle;\n",
       "    }\n",
       "\n",
       "    .dataframe tbody tr th {\n",
       "        vertical-align: top;\n",
       "    }\n",
       "\n",
       "    .dataframe thead th {\n",
       "        text-align: right;\n",
       "    }\n",
       "</style>\n",
       "<table border=\"1\" class=\"dataframe\">\n",
       "  <thead>\n",
       "    <tr style=\"text-align: right;\">\n",
       "      <th></th>\n",
       "      <th>Cl.thickness</th>\n",
       "      <th>Cell.size</th>\n",
       "      <th>Cell.shape</th>\n",
       "      <th>Marg.adhesion</th>\n",
       "      <th>Epith.c.size</th>\n",
       "      <th>Bare.nuclei</th>\n",
       "      <th>Bl.cromatin</th>\n",
       "      <th>Normal.nucleoli</th>\n",
       "      <th>Mitoses</th>\n",
       "      <th>Class</th>\n",
       "    </tr>\n",
       "  </thead>\n",
       "  <tbody>\n",
       "    <tr>\n",
       "      <th>Cl.thickness</th>\n",
       "      <td>1.000000</td>\n",
       "      <td>0.642481</td>\n",
       "      <td>0.653470</td>\n",
       "      <td>0.487829</td>\n",
       "      <td>0.523596</td>\n",
       "      <td>0.593091</td>\n",
       "      <td>0.553742</td>\n",
       "      <td>0.534066</td>\n",
       "      <td>0.350957</td>\n",
       "      <td>0.714790</td>\n",
       "    </tr>\n",
       "    <tr>\n",
       "      <th>Cell.size</th>\n",
       "      <td>0.642481</td>\n",
       "      <td>1.000000</td>\n",
       "      <td>0.907228</td>\n",
       "      <td>0.706977</td>\n",
       "      <td>0.753544</td>\n",
       "      <td>0.691709</td>\n",
       "      <td>0.755559</td>\n",
       "      <td>0.719346</td>\n",
       "      <td>0.460755</td>\n",
       "      <td>0.820801</td>\n",
       "    </tr>\n",
       "    <tr>\n",
       "      <th>Cell.shape</th>\n",
       "      <td>0.653470</td>\n",
       "      <td>0.907228</td>\n",
       "      <td>1.000000</td>\n",
       "      <td>0.685948</td>\n",
       "      <td>0.722462</td>\n",
       "      <td>0.713878</td>\n",
       "      <td>0.735344</td>\n",
       "      <td>0.717963</td>\n",
       "      <td>0.441258</td>\n",
       "      <td>0.821891</td>\n",
       "    </tr>\n",
       "    <tr>\n",
       "      <th>Marg.adhesion</th>\n",
       "      <td>0.487829</td>\n",
       "      <td>0.706977</td>\n",
       "      <td>0.685948</td>\n",
       "      <td>1.000000</td>\n",
       "      <td>0.594548</td>\n",
       "      <td>0.670648</td>\n",
       "      <td>0.668567</td>\n",
       "      <td>0.603121</td>\n",
       "      <td>0.418898</td>\n",
       "      <td>0.706294</td>\n",
       "    </tr>\n",
       "    <tr>\n",
       "      <th>Epith.c.size</th>\n",
       "      <td>0.523596</td>\n",
       "      <td>0.753544</td>\n",
       "      <td>0.722462</td>\n",
       "      <td>0.594548</td>\n",
       "      <td>1.000000</td>\n",
       "      <td>0.585716</td>\n",
       "      <td>0.618128</td>\n",
       "      <td>0.628926</td>\n",
       "      <td>0.480583</td>\n",
       "      <td>0.690958</td>\n",
       "    </tr>\n",
       "    <tr>\n",
       "      <th>Bare.nuclei</th>\n",
       "      <td>0.593091</td>\n",
       "      <td>0.691709</td>\n",
       "      <td>0.713878</td>\n",
       "      <td>0.670648</td>\n",
       "      <td>0.585716</td>\n",
       "      <td>1.000000</td>\n",
       "      <td>0.680615</td>\n",
       "      <td>0.584280</td>\n",
       "      <td>0.339210</td>\n",
       "      <td>0.822696</td>\n",
       "    </tr>\n",
       "    <tr>\n",
       "      <th>Bl.cromatin</th>\n",
       "      <td>0.553742</td>\n",
       "      <td>0.755559</td>\n",
       "      <td>0.735344</td>\n",
       "      <td>0.668567</td>\n",
       "      <td>0.618128</td>\n",
       "      <td>0.680615</td>\n",
       "      <td>1.000000</td>\n",
       "      <td>0.665602</td>\n",
       "      <td>0.346011</td>\n",
       "      <td>0.758228</td>\n",
       "    </tr>\n",
       "    <tr>\n",
       "      <th>Normal.nucleoli</th>\n",
       "      <td>0.534066</td>\n",
       "      <td>0.719346</td>\n",
       "      <td>0.717963</td>\n",
       "      <td>0.603121</td>\n",
       "      <td>0.628926</td>\n",
       "      <td>0.584280</td>\n",
       "      <td>0.665602</td>\n",
       "      <td>1.000000</td>\n",
       "      <td>0.433757</td>\n",
       "      <td>0.718677</td>\n",
       "    </tr>\n",
       "    <tr>\n",
       "      <th>Mitoses</th>\n",
       "      <td>0.350957</td>\n",
       "      <td>0.460755</td>\n",
       "      <td>0.441258</td>\n",
       "      <td>0.418898</td>\n",
       "      <td>0.480583</td>\n",
       "      <td>0.339210</td>\n",
       "      <td>0.346011</td>\n",
       "      <td>0.433757</td>\n",
       "      <td>1.000000</td>\n",
       "      <td>0.423448</td>\n",
       "    </tr>\n",
       "    <tr>\n",
       "      <th>Class</th>\n",
       "      <td>0.714790</td>\n",
       "      <td>0.820801</td>\n",
       "      <td>0.821891</td>\n",
       "      <td>0.706294</td>\n",
       "      <td>0.690958</td>\n",
       "      <td>0.822696</td>\n",
       "      <td>0.758228</td>\n",
       "      <td>0.718677</td>\n",
       "      <td>0.423448</td>\n",
       "      <td>1.000000</td>\n",
       "    </tr>\n",
       "  </tbody>\n",
       "</table>\n",
       "</div>"
      ],
      "text/plain": [
       "                 Cl.thickness  Cell.size  Cell.shape  Marg.adhesion  \\\n",
       "Cl.thickness         1.000000   0.642481    0.653470       0.487829   \n",
       "Cell.size            0.642481   1.000000    0.907228       0.706977   \n",
       "Cell.shape           0.653470   0.907228    1.000000       0.685948   \n",
       "Marg.adhesion        0.487829   0.706977    0.685948       1.000000   \n",
       "Epith.c.size         0.523596   0.753544    0.722462       0.594548   \n",
       "Bare.nuclei          0.593091   0.691709    0.713878       0.670648   \n",
       "Bl.cromatin          0.553742   0.755559    0.735344       0.668567   \n",
       "Normal.nucleoli      0.534066   0.719346    0.717963       0.603121   \n",
       "Mitoses              0.350957   0.460755    0.441258       0.418898   \n",
       "Class                0.714790   0.820801    0.821891       0.706294   \n",
       "\n",
       "                 Epith.c.size  Bare.nuclei  Bl.cromatin  Normal.nucleoli  \\\n",
       "Cl.thickness         0.523596     0.593091     0.553742         0.534066   \n",
       "Cell.size            0.753544     0.691709     0.755559         0.719346   \n",
       "Cell.shape           0.722462     0.713878     0.735344         0.717963   \n",
       "Marg.adhesion        0.594548     0.670648     0.668567         0.603121   \n",
       "Epith.c.size         1.000000     0.585716     0.618128         0.628926   \n",
       "Bare.nuclei          0.585716     1.000000     0.680615         0.584280   \n",
       "Bl.cromatin          0.618128     0.680615     1.000000         0.665602   \n",
       "Normal.nucleoli      0.628926     0.584280     0.665602         1.000000   \n",
       "Mitoses              0.480583     0.339210     0.346011         0.433757   \n",
       "Class                0.690958     0.822696     0.758228         0.718677   \n",
       "\n",
       "                  Mitoses     Class  \n",
       "Cl.thickness     0.350957  0.714790  \n",
       "Cell.size        0.460755  0.820801  \n",
       "Cell.shape       0.441258  0.821891  \n",
       "Marg.adhesion    0.418898  0.706294  \n",
       "Epith.c.size     0.480583  0.690958  \n",
       "Bare.nuclei      0.339210  0.822696  \n",
       "Bl.cromatin      0.346011  0.758228  \n",
       "Normal.nucleoli  0.433757  0.718677  \n",
       "Mitoses          1.000000  0.423448  \n",
       "Class            0.423448  1.000000  "
      ]
     },
     "execution_count": 6,
     "metadata": {},
     "output_type": "execute_result"
    }
   ],
   "source": [
    "data.corr(method='pearson')"
   ]
  },
  {
   "cell_type": "markdown",
   "metadata": {},
   "source": [
    "Let's visualise all that wildly cramped data. We will only be interested in the correlation between all the features and the class column. The bar chart of the correlations with respect to the class are shown below. The columns ***Cell.Size, Cell.Shape*** and ***Bare.Nuclei*** have high correlation with the Class and ***Mitoses*** has the minimum correlation of just 0.42."
   ]
  },
  {
   "cell_type": "code",
   "execution_count": 7,
   "metadata": {
    "colab": {
     "base_uri": "https://localhost:8080/",
     "height": 339
    },
    "executionInfo": {
     "elapsed": 506,
     "status": "ok",
     "timestamp": 1671914129239,
     "user": {
      "displayName": "Venkatesh Nagasubramanian",
      "userId": "06459212537511408815"
     },
     "user_tz": 0
    },
    "id": "YezjNTjup6U8",
    "outputId": "3a0b9d99-fa07-43a3-a725-15129d872a01"
   },
   "outputs": [
    {
     "data": {
      "text/plain": [
       "Text(0, 0.5, 'Correlation with Class')"
      ]
     },
     "execution_count": 7,
     "metadata": {},
     "output_type": "execute_result"
    },
    {
     "data": {
      "image/png": "[encoded data removed]",
      "text/plain": [
       "<Figure size 1400x400 with 1 Axes>"
      ]
     },
     "metadata": {},
     "output_type": "display_data"
    }
   ],
   "source": [
    "plt.figure(figsize = (14,4))\n",
    "plt.bar(data.columns[:-1], data.corr(method='pearson')['Class'][:-1], color = 'cornflowerblue', edgecolor = '#7f8e9e', width = 0.4)\n",
    "plt.xlabel('Features')\n",
    "plt.ylabel('Correlation with Class')"
   ]
  },
  {
   "cell_type": "markdown",
   "metadata": {},
   "source": [
    "Should we drop the mitoses column then? Yes and No. Usually we drop a feature if it has a lower correlation coefficient. This helps the algorithm run faster and make the model less expensive computationally.   \n",
    "The main point of feature engineering, although, is to improve accuracy.  \n",
    "This model does not require huge computation to perform, hence we wouldn't be dropping this column."
   ]
  },
  {
   "cell_type": "markdown",
   "metadata": {},
   "source": [
    "## Scaling the data \n",
    "\n",
    "The data is sent to be scaled to a number between 0 and 1. This is done so that the compiler learns faster and easier. Here, I will be using the min, max scaler. The box plots of before and after the scaling are given below.\n",
    "\n",
    "How does this scaler work?  \n",
    "The min-max scaler uses minimum and maximum values of the dataset to scale the values. The difference between a datapoint and the minimum is divided by the maximum difference in the column.\n",
    "\n",
    "This way, the values are equally spaced and standardised between the minimum value being zero and the maximum value being one. \n",
    "\n",
    "But before that, we split the values between the features and the target values or ```x``` and ```y```."
   ]
  },
  {
   "cell_type": "code",
   "execution_count": 8,
   "metadata": {},
   "outputs": [],
   "source": [
    "# Split into features and columns\n",
    "\n",
    "y = data['Class']\n",
    "x = data[data.columns[:-1]]\n"
   ]
  },
  {
   "cell_type": "code",
   "execution_count": 9,
   "metadata": {
    "colab": {
     "base_uri": "https://localhost:8080/",
     "height": 611
    },
    "executionInfo": {
     "elapsed": 564,
     "status": "ok",
     "timestamp": 1671914335571,
     "user": {
      "displayName": "Venkatesh Nagasubramanian",
      "userId": "06459212537511408815"
     },
     "user_tz": 0
    },
    "id": "qK1o8a71rdoc",
    "outputId": "8ceb0b1e-73f5-4c4c-b97e-66b6855e9b21"
   },
   "outputs": [
    {
     "data": {
      "image/png": "[encoded data removed]",
      "text/plain": [
       "<Figure size 1400x400 with 1 Axes>"
      ]
     },
     "metadata": {},
     "output_type": "display_data"
    }
   ],
   "source": [
    "# Box plot of the data before scaling \n",
    "\n",
    "plt.figure(figsize = (14,4))\n",
    "sns.boxplot(data = x)\n",
    "plt.xlabel('Features')\n",
    "plt.ylabel('Value')\n",
    "plt.title('Box plot of the data before scaling')\n",
    "plt.show()"
   ]
  },
  {
   "cell_type": "code",
   "execution_count": 10,
   "metadata": {
    "id": "xI7GVG4w0T4u"
   },
   "outputs": [],
   "source": [
    "# Scaling the data\n",
    "\n",
    "from sklearn.preprocessing import MinMaxScaler\n",
    "scaler = MinMaxScaler()\n",
    "x_scaled = scaler.fit_transform(x)\n"
   ]
  },
  {
   "cell_type": "code",
   "execution_count": 11,
   "metadata": {},
   "outputs": [
    {
     "data": {
      "image/png": "[encoded data removed]",
      "text/plain": [
       "<Figure size 1400x400 with 1 Axes>"
      ]
     },
     "metadata": {},
     "output_type": "display_data"
    }
   ],
   "source": [
    "# Box plot of the data after the scaling\n",
    "\n",
    "x_scaled = pd.DataFrame(x_scaled)\n",
    "x_scaled.columns = list(data.columns[:-1])\n",
    "plt.figure(figsize = (14,4))\n",
    "sns.boxplot(data = x_scaled)\n",
    "plt.xlabel('Features')\n",
    "plt.ylabel('Value')\n",
    "plt.title('Box plot of the data after scaling')\n",
    "plt.show()"
   ]
  },
  {
   "cell_type": "markdown",
   "metadata": {},
   "source": [
    "## Model\n",
    "\n",
    "Now that we have scaled the data, we can continue with the model. We will be performing two classifier models:\n",
    "1. Naive Bayes\n",
    "2. Logistic Regression model\n",
    "\n",
    "More on these models will be explained later.\n",
    "\n",
    "Before this, the data will be split into two parts - one training set to train the model, and a testing set used to check the performance of the model. For this there is an inbuilt function in sklearn. The split between the data is 75-25. The random state parameter is also specified, so I could get the same answer with different runs of the code. It is specified as 57 because it is my lucky number!"
   ]
  },
  {
   "cell_type": "code",
   "execution_count": 12,
   "metadata": {},
   "outputs": [
    {
     "data": {
      "text/plain": [
       "512.25"
      ]
     },
     "execution_count": 12,
     "metadata": {},
     "output_type": "execute_result"
    }
   ],
   "source": [
    "# Split the data \n",
    "\n",
    "from sklearn.model_selection import train_test_split\n",
    "x_train, x_test, y_train, y_test = train_test_split(x_scaled, y, test_size = 0.25, random_state = 57)\n",
    "0.75*683"
   ]
  },
  {
   "cell_type": "code",
   "execution_count": 13,
   "metadata": {},
   "outputs": [
    {
     "name": "stdout",
     "output_type": "stream",
     "text": [
      "(512, 9) (171, 9)\n"
     ]
    }
   ],
   "source": [
    "print(x_train.shape, x_test.shape)"
   ]
  },
  {
   "cell_type": "markdown",
   "metadata": {},
   "source": [
    "### Naive Bayes model\n",
    "\n",
    "This classifier technique determines the probability using Baye's Theorem. This approach is \"naive\" because it believes that the features are distinct from one another—that is, that the presence or absence of one feature has no bearing on another. There are many other kinds of Naive Bayes classifiers, but we'll choose the Gaussian variety because it can handle continuous data.\n",
    "\n",
    "One assumption that is inherent in the Gassian Naive Bayes classification is that, the data is distributed normally. So the likelihood of the class is determined assuming that the features are normally distributed and are independent of each other.\n",
    "\n",
    "This model calculates the class by calculating two probabilities. Let me explain this in our context:\n",
    "\n",
    "Firstly, calculate the probability that it is benign, given the features. Let us call it P(0|x). Then, calculate the probability that it is malignant given the same features or simply P(1|x). The prediction will be that class for which the probability is higher. That is, if P(0|x) > P(1|x), it is 0 or else 1.\n",
    "\n",
    "The Naive Bayes is implemented using the sklearn package, ```sklearn.naive_bayes.GaussianNB```."
   ]
  },
  {
   "cell_type": "code",
   "execution_count": 14,
   "metadata": {},
   "outputs": [
    {
     "data": {
      "text/plain": [
       "GaussianNB()"
      ]
     },
     "execution_count": 14,
     "metadata": {},
     "output_type": "execute_result"
    }
   ],
   "source": [
    "# define the model\n",
    "\n",
    "from sklearn.naive_bayes import GaussianNB\n",
    "bayes_model = GaussianNB()\n",
    "bayes_model.fit(x_train, y_train)"
   ]
  },
  {
   "cell_type": "code",
   "execution_count": 15,
   "metadata": {},
   "outputs": [
    {
     "data": {
      "text/plain": [
       "array([0, 0, 0, 0, 0, 1, 0, 0, 0, 0, 0, 0, 1, 0, 1, 0, 0, 0, 0, 0, 1, 0,\n",
       "       0, 1, 1, 1, 1, 0, 1, 1, 1, 0, 1, 0, 0, 1, 0, 0, 1, 0, 0, 0, 1, 0,\n",
       "       0, 1, 0, 1, 0, 0, 0, 1, 0, 1, 0, 0, 0, 1, 0, 0, 1, 0, 0, 0, 0, 1,\n",
       "       1, 0, 1, 0, 1, 0, 1, 0, 0, 0, 1, 0, 0, 1, 1, 1, 0, 0, 1, 1, 0, 0,\n",
       "       0, 0, 1, 1, 0, 0, 1, 0, 0, 0, 0, 0, 0, 1, 0, 0, 1, 1, 0, 0, 0, 0,\n",
       "       1, 1, 1, 1, 1, 0, 1, 0, 0, 0, 0, 1, 0, 0, 0, 0, 0, 0, 0, 1, 1, 0,\n",
       "       0, 0, 0, 1, 0, 0, 1, 0, 0, 0, 0, 0, 1, 0, 1, 1, 0, 1, 0, 1, 0, 1,\n",
       "       0, 0, 0, 1, 0, 0, 0, 1, 1, 1, 0, 0, 1, 0, 0, 0, 1], dtype=int64)"
      ]
     },
     "execution_count": 15,
     "metadata": {},
     "output_type": "execute_result"
    }
   ],
   "source": [
    "# making the predictions\n",
    "y_pred_bayes = bayes_model.predict(x_test)\n",
    "y_pred_bayes"
   ]
  },
  {
   "cell_type": "code",
   "execution_count": 16,
   "metadata": {},
   "outputs": [
    {
     "data": {
      "text/plain": [
       "0.9590643274853801"
      ]
     },
     "execution_count": 16,
     "metadata": {},
     "output_type": "execute_result"
    }
   ],
   "source": [
    "bayes_model.score(x_test,y_test) # outputs the accuracy"
   ]
  },
  {
   "cell_type": "markdown",
   "metadata": {},
   "source": [
    "### Logistic Regression model\n",
    "It is one of the most basic method to classify data. This method takes features and target and outputs a value between 0 and 1. This is the probability of the class. Usually if the model outputs greater than 0.5 for a particular feature, it is assumed as Class 1 or 0 otherwise.\n",
    "\n",
    "Logistic Regression can be mathematically stated as:\n",
    "\n",
    "y = 1/(1 + e^(w*x +b)) or in simpler terms, y = sigmoid(w*x + b)\n",
    "\n",
    "where x and y are the features and the target respectively, and w is the weight(s) and b is the bias. "
   ]
  },
  {
   "cell_type": "code",
   "execution_count": 17,
   "metadata": {},
   "outputs": [
    {
     "data": {
      "text/plain": [
       "LogisticRegression()"
      ]
     },
     "execution_count": 17,
     "metadata": {},
     "output_type": "execute_result"
    }
   ],
   "source": [
    "# define the model\n",
    "from sklearn.linear_model import LogisticRegression\n",
    "log_model = LogisticRegression()\n",
    "log_model.fit(x_train, y_train)"
   ]
  },
  {
   "cell_type": "code",
   "execution_count": 18,
   "metadata": {},
   "outputs": [
    {
     "data": {
      "text/plain": [
       "array([0, 0, 0, 0, 0, 0, 0, 0, 0, 0, 0, 0, 1, 0, 1, 0, 0, 0, 0, 0, 1, 0,\n",
       "       0, 1, 1, 1, 1, 0, 1, 1, 1, 0, 0, 0, 0, 1, 0, 0, 1, 0, 0, 0, 1, 0,\n",
       "       0, 1, 0, 0, 0, 0, 0, 1, 0, 1, 0, 0, 0, 1, 0, 0, 1, 0, 0, 0, 0, 1,\n",
       "       1, 0, 1, 0, 1, 0, 1, 0, 0, 0, 1, 0, 0, 1, 1, 1, 0, 0, 1, 1, 0, 0,\n",
       "       0, 0, 0, 1, 0, 0, 1, 0, 0, 0, 0, 0, 0, 1, 0, 0, 1, 1, 0, 0, 0, 0,\n",
       "       1, 1, 1, 1, 1, 0, 1, 0, 0, 0, 0, 1, 0, 0, 0, 0, 0, 0, 0, 1, 1, 0,\n",
       "       0, 0, 0, 1, 0, 0, 1, 0, 0, 0, 0, 0, 1, 0, 1, 1, 0, 1, 0, 1, 0, 1,\n",
       "       0, 0, 0, 1, 0, 0, 0, 1, 1, 1, 0, 0, 1, 0, 0, 0, 1], dtype=int64)"
      ]
     },
     "execution_count": 18,
     "metadata": {},
     "output_type": "execute_result"
    }
   ],
   "source": [
    "# making the predictions\n",
    "y_pred_log = log_model.predict(x_test)\n",
    "y_pred_log"
   ]
  },
  {
   "cell_type": "code",
   "execution_count": 19,
   "metadata": {},
   "outputs": [
    {
     "data": {
      "text/plain": [
       "0.9707602339181286"
      ]
     },
     "execution_count": 19,
     "metadata": {},
     "output_type": "execute_result"
    }
   ],
   "source": [
    "log_model.score(x_test,y_test) # outputs the accuracy"
   ]
  },
  {
   "cell_type": "markdown",
   "metadata": {},
   "source": [
    "## Validation\n",
    "\n",
    "We've fit the data to both the models and we saw that we have got more than 95% accuracy on both the models. But this is because we have taken only one particular set of data to train and one particular set of data to test. The results might differ if we had probably taken a different set of data for the testing and training set. \n",
    "\n",
    "We can acheive this using cross-validation techniques. We will be using k fold cross validation. But the disadvantage is that we might have imbalanced classes. You can see that there is only 239 malignant cases and 444 benign ones (check line 5). That's 1.85 benign cases for 1 malignant class. There is chance that there is a high imbalance when the algorithm splits the data.\n",
    "\n",
    "Stratified cross validation takes care of that. \n",
    "\n",
    "How does cross validation work? The algorithm splits the data into k parts(or folds). One part will be used for the testing and the rest for the training. So the algorithm iterates this process k times for each part used for testing. To honour our splitting before, we will make sure the split is the same, i.e, 75-25. So the number of folds is 4.\n",
    "\n",
    "As always, we will lean on sklearn for this."
   ]
  },
  {
   "cell_type": "code",
   "execution_count": 20,
   "metadata": {},
   "outputs": [],
   "source": [
    "# creating the cross validation function to return scores\n",
    "\n",
    "from sklearn.model_selection import StratifiedKFold, cross_validate\n",
    "def cross_validation(model, X, Y):\n",
    "    strat = StratifiedKFold(n_splits = 4, shuffle = True, random_state = 57)\n",
    "    scores = cross_validate(model, X, Y, cv = strat, return_train_score = True, scoring = ['accuracy', 'precision', 'recall', 'f1'])\n",
    "    \n",
    "    return scores"
   ]
  },
  {
   "cell_type": "code",
   "execution_count": 21,
   "metadata": {},
   "outputs": [
    {
     "data": {
      "text/plain": [
       "{'fit_time': array([0.00224924, 0.0009973 , 0.00099659, 0.00099611]),\n",
       " 'score_time': array([0.00322175, 0.00199294, 0.00201964, 0.00199342]),\n",
       " 'test_accuracy': array([0.97660819, 0.95321637, 0.94736842, 0.97647059]),\n",
       " 'train_accuracy': array([0.95898438, 0.96289062, 0.97070312, 0.95906433]),\n",
       " 'test_precision': array([0.9375    , 0.93333333, 0.88059701, 0.93650794]),\n",
       " 'train_precision': array([0.91578947, 0.91666667, 0.94086022, 0.91623037]),\n",
       " 'test_recall': array([1.        , 0.93333333, 0.98333333, 1.        ]),\n",
       " 'train_recall': array([0.97206704, 0.98324022, 0.97765363, 0.97222222]),\n",
       " 'test_f1': array([0.96774194, 0.93333333, 0.92913386, 0.96721311]),\n",
       " 'train_f1': array([0.94308943, 0.94878706, 0.95890411, 0.94339623])}"
      ]
     },
     "execution_count": 21,
     "metadata": {},
     "output_type": "execute_result"
    }
   ],
   "source": [
    "# fit the naive bayes model and output the scores\n",
    "val_bayes = cross_validation(bayes_model, x_scaled, y)\n",
    "test_score_bayes, train_score_bayes = val_bayes['test_accuracy'], val_bayes['train_accuracy']\n",
    "val_bayes"
   ]
  },
  {
   "cell_type": "code",
   "execution_count": 22,
   "metadata": {},
   "outputs": [
    {
     "data": {
      "text/plain": [
       "{'fit_time': array([0.00314951, 0.00240707, 0.00303602, 0.00298953]),\n",
       " 'score_time': array([0.00250101, 0.00220394, 0.00103998, 0.00199366]),\n",
       " 'test_accuracy': array([0.97076023, 0.96491228, 0.96491228, 0.97647059]),\n",
       " 'train_accuracy': array([0.97070312, 0.97070312, 0.97070312, 0.96881092]),\n",
       " 'test_precision': array([0.96610169, 0.98214286, 0.93548387, 0.96610169]),\n",
       " 'train_precision': array([0.96590909, 0.96067416, 0.96590909, 0.96067416]),\n",
       " 'test_recall': array([0.95      , 0.91666667, 0.96666667, 0.96610169]),\n",
       " 'train_recall': array([0.94972067, 0.95530726, 0.94972067, 0.95      ]),\n",
       " 'test_f1': array([0.95798319, 0.94827586, 0.95081967, 0.96610169]),\n",
       " 'train_f1': array([0.95774648, 0.95798319, 0.95774648, 0.95530726])}"
      ]
     },
     "execution_count": 22,
     "metadata": {},
     "output_type": "execute_result"
    }
   ],
   "source": [
    "# fit the logistic Regression model and output the scores\n",
    "val_log= cross_validation(log_model, x_scaled, y)\n",
    "test_score_log, train_score_log = val_log['test_accuracy'], val_log['train_accuracy']\n",
    "val_log"
   ]
  },
  {
   "cell_type": "markdown",
   "metadata": {},
   "source": [
    "That is too many numbers to comprehend. Don't worry, we will be visualising them later."
   ]
  },
  {
   "cell_type": "code",
   "execution_count": 23,
   "metadata": {},
   "outputs": [],
   "source": [
    "# define a function to check the training and testing accuracy of the models\n",
    "\n",
    "def visualise(train, test, title):\n",
    "    x_axis = np.arange(4)\n",
    "    plt.figure(figsize = (10,4))\n",
    "    plt.bar(x_axis , test, label = 'Testing accuracy', width = 0.2, color = '#2ab7ca')\n",
    "    plt.bar(x_axis + 0.2, train, label = 'Training accuracy', width = 0.2, color = '#fed766')\n",
    "    plt.xticks(x_axis, ['B1', 'B2', 'B3', 'B4']) # the B stands for batch\n",
    "    plt.xlabel('Batches')\n",
    "    plt.ylabel('Value')\n",
    "    plt.legend()\n",
    "    plt.title(title)\n",
    "    plt.show()"
   ]
  },
  {
   "cell_type": "code",
   "execution_count": 24,
   "metadata": {},
   "outputs": [
    {
     "data": {
      "image/png": "[encoded data removed]",
      "text/plain": [
       "<Figure size 1000x400 with 1 Axes>"
      ]
     },
     "metadata": {},
     "output_type": "display_data"
    }
   ],
   "source": [
    "# visualise the data for the naive bayes model\n",
    "\n",
    "visualise(train_score_bayes, test_score_bayes, 'Naive Bayes Accuracy')"
   ]
  },
  {
   "cell_type": "code",
   "execution_count": 25,
   "metadata": {},
   "outputs": [
    {
     "data": {
      "image/png": "[encoded data removed]",
      "text/plain": [
       "<Figure size 1000x400 with 1 Axes>"
      ]
     },
     "metadata": {},
     "output_type": "display_data"
    }
   ],
   "source": [
    "# visualise the data for the logistic regression model\n",
    "\n",
    "visualise(train_score_log, test_score_log, 'Logistic Regression Accuracy')"
   ]
  },
  {
   "cell_type": "markdown",
   "metadata": {},
   "source": [
    "One of the common enemies of a mahcine learning model is the possibility of overfitting. Seeing the graphs of the training vs the testing accuracy of both the models seem to be almost similar. So we can conclude that the models aren't overfitting. "
   ]
  },
  {
   "cell_type": "markdown",
   "metadata": {},
   "source": [
    "### Model Evaluation  \n",
    "\n",
    "Let's examine the model's performance now that it has been constructed. Although both models' accuracy is listed after the model itself, this is insufficient. For this binary classification, we'll employ additional validation techniques.\n",
    "\n",
    "There are four possible outcomes when a binary classification model makes a prediction:  \n",
    "```\n",
    "| Actual/Predicted | 1 (Positive)   | 0 (Negative)   |  Horizontal is Actual  \n",
    "|:-----------------|:--------------:|:--------------:|  Vertical is Predicted  \n",
    "| 1                | True Positive  | False positive |  \n",
    "| 0                | False negative | True negative  |  \n",
    "```\n",
    "\n",
    "The above table is also called as the confusion matrix. \n",
    "\n",
    "Now that we know about the outcomes, lets look at the validation metrics of the model:  \n",
    "- ***Accuracy*** : The proportion of accurate predictions to all predictions. It is mathematically written as accuracy = (tp + tn) / (tp + tn + fp + fn)\n",
    "- ***Precision*** : The proportion of true positives to all predicted positive outcomes. It is mathematically represented as precision = tp / (tp + fp)\n",
    "- ***Recall*** : This is the proportion of the true positives by the overall amount of actual positive values. Mathematically, recall = tp / (tp + fn)\n",
    "- ***F1 score*** : The harmonic mean of the precision and recall. Or mathematically, F1 score = 2 / (1 / precision + 1 / recall) or 2 * precision * recall / (precison + recall)\n",
    "\n",
    "How do we comapare these numbers? Usually, a better accuracy, precision, recall and f1 score means a better performing model, although the direct result inferred is different for all of them. For example better precision means lesser false positives, which obviously implies the model is doing better.\n",
    "\n",
    "\n",
    "To quickly output all of them, there are specialised packages in the ```sklearn.metrics``` library. To obtain all of these values, we will write a function, which we will then visualise to compare the two models. For the cross-validation technique, we already have the values.\n",
    "Note that both the ```sklearn.metrics.score``` and ```sklearn.metrics.accuracy_score```  give out the same value.\n",
    "\n",
    "We will first calculate the metrics for the initial split. We have already calculated for the cross validation split, but it will be visualised later."
   ]
  },
  {
   "cell_type": "code",
   "execution_count": 26,
   "metadata": {},
   "outputs": [],
   "source": [
    "from sklearn.metrics import f1_score, recall_score, precision_score, accuracy_score\n",
    "# create a function to output scores\n",
    "\n",
    "def scores(y,y_hat):\n",
    "    acc = accuracy_score(y,y_hat)\n",
    "    pre = precision_score(y,y_hat)\n",
    "    rec = recall_score(y,y_hat)\n",
    "    f1 = f1_score(y,y_hat)\n",
    "    dic = {'accuracy': acc, 'precision': pre, 'recall': rec, 'f1 score': f1}\n",
    "    return dic\n"
   ]
  },
  {
   "cell_type": "markdown",
   "metadata": {},
   "source": [
    "Let's calculate the validation metrics for the Naive Bayes classifier model"
   ]
  },
  {
   "cell_type": "code",
   "execution_count": 27,
   "metadata": {},
   "outputs": [
    {
     "data": {
      "text/plain": [
       "{'accuracy': 0.9590643274853801,\n",
       " 'precision': 0.9180327868852459,\n",
       " 'recall': 0.9655172413793104,\n",
       " 'f1 score': 0.9411764705882353}"
      ]
     },
     "execution_count": 27,
     "metadata": {},
     "output_type": "execute_result"
    }
   ],
   "source": [
    "bayes_metrics = scores(y_test, y_pred_bayes)\n",
    "bayes_metrics"
   ]
  },
  {
   "cell_type": "markdown",
   "metadata": {},
   "source": [
    "Now, for the Logistic Regression model"
   ]
  },
  {
   "cell_type": "code",
   "execution_count": 28,
   "metadata": {},
   "outputs": [
    {
     "data": {
      "text/plain": [
       "{'accuracy': 0.9707602339181286,\n",
       " 'precision': 0.9649122807017544,\n",
       " 'recall': 0.9482758620689655,\n",
       " 'f1 score': 0.9565217391304347}"
      ]
     },
     "execution_count": 28,
     "metadata": {},
     "output_type": "execute_result"
    }
   ],
   "source": [
    "log_metrics = scores(y_test, y_pred_log)\n",
    "log_metrics"
   ]
  },
  {
   "cell_type": "markdown",
   "metadata": {},
   "source": [
    "Now that we've got the values, we shall visualise all of them to see which model performs better."
   ]
  },
  {
   "cell_type": "code",
   "execution_count": 29,
   "metadata": {},
   "outputs": [],
   "source": [
    "# define a function to output the graph\n",
    "def compare_graph(bayes_values, log_values, title):\n",
    "    X_axis = np.arange(4)\n",
    "    plt.figure(figsize = (10,4))\n",
    "    plt.bar(X_axis , bayes_values, label = 'Naive bayes classifier', width = 0.2, color = '#ff6f69')\n",
    "    plt.bar(X_axis + 0.2, log_values, label = 'Logistic Regression classifier', width = 0.2, color = '#88d8b0')\n",
    "\n",
    "    plt.xticks(X_axis, ['accuracy', 'precision', 'recall', 'f1 score'])\n",
    "    plt.xlabel('Validation Metrics')\n",
    "    plt.ylabel('Value')\n",
    "    plt.legend()\n",
    "    plt.title(title)\n",
    "    plt.show()"
   ]
  },
  {
   "cell_type": "code",
   "execution_count": 30,
   "metadata": {},
   "outputs": [
    {
     "data": {
      "image/png": "[encoded data removed]",
      "text/plain": [
       "<Figure size 1000x400 with 1 Axes>"
      ]
     },
     "metadata": {},
     "output_type": "display_data"
    }
   ],
   "source": [
    "compare_graph(bayes_metrics.values(), log_metrics.values(), 'Comparison between the models using the initial split')"
   ]
  },
  {
   "cell_type": "markdown",
   "metadata": {},
   "source": [
    "As you can see, the Logistic Regression model has better precision, and a slightly better f1 score and accuracy. The Naive Bayes has done a slightly better job in terms of recall. "
   ]
  },
  {
   "cell_type": "markdown",
   "metadata": {},
   "source": [
    "Now, Let's calculate for the models but using the 4-fold cross validation split method. We will be using the average of the metrics to decide the performance of the model."
   ]
  },
  {
   "cell_type": "code",
   "execution_count": 31,
   "metadata": {},
   "outputs": [],
   "source": [
    "# create a function to output the KFold metrics\n",
    "def KFold_metrics(vals):\n",
    "    metrics = {}\n",
    "    \n",
    "    acc, pre, rec, f1 = [], [], [], [] \n",
    "    \n",
    "    acc.append(vals['test_accuracy'])\n",
    "    pre.append(vals['test_precision'])\n",
    "    rec.append(vals['test_recall'])\n",
    "    f1.append(vals['test_f1'])\n",
    "        \n",
    "    metrics['accuracy'], metrics['precision'] = np.mean(acc), np.mean(pre)\n",
    "    metrics['recall'], metrics['f1 score'] = np.mean(rec), np.mean(f1)\n",
    "    \n",
    "    return metrics\n",
    "    "
   ]
  },
  {
   "cell_type": "code",
   "execution_count": 32,
   "metadata": {},
   "outputs": [
    {
     "data": {
      "text/plain": [
       "{'accuracy': 0.9634158926728587,\n",
       " 'precision': 0.9219845711916608,\n",
       " 'recall': 0.9791666666666666,\n",
       " 'f1 score': 0.9493555604597548}"
      ]
     },
     "execution_count": 32,
     "metadata": {},
     "output_type": "execute_result"
    }
   ],
   "source": [
    "# KFold metrics for the Naive Bayes model\n",
    "bayes_kfold_metrics = KFold_metrics(val_bayes)\n",
    "bayes_kfold_metrics"
   ]
  },
  {
   "cell_type": "code",
   "execution_count": 33,
   "metadata": {},
   "outputs": [
    {
     "data": {
      "text/plain": [
       "{'accuracy': 0.9692638458892329,\n",
       " 'precision': 0.9624575294852769,\n",
       " 'recall': 0.949858757062147,\n",
       " 'f1 score': 0.9557951055981696}"
      ]
     },
     "execution_count": 33,
     "metadata": {},
     "output_type": "execute_result"
    }
   ],
   "source": [
    "# KFold metrics for the Logistic Regression model\n",
    "log_kfold_metrics = KFold_metrics(val_log)\n",
    "log_kfold_metrics"
   ]
  },
  {
   "cell_type": "code",
   "execution_count": 34,
   "metadata": {},
   "outputs": [
    {
     "data": {
      "image/png": "[encoded data removed]",
      "text/plain": [
       "<Figure size 1000x400 with 1 Axes>"
      ]
     },
     "metadata": {},
     "output_type": "display_data"
    }
   ],
   "source": [
    "compare_graph(bayes_kfold_metrics.values(), log_kfold_metrics.values(), 'Comparision between the models using the KFold cross validation')"
   ]
  },
  {
   "cell_type": "markdown",
   "metadata": {},
   "source": [
    "Hmm, same result. Naive Bayes has the better recall, and the rest of them is dominated by the logistic regression. "
   ]
  },
  {
   "cell_type": "markdown",
   "metadata": {},
   "source": [
    "## Conclusion\n",
    "\n",
    "What do we see from implementing both the models?  \n",
    "\n",
    "Our Logistic Regression model has performed better in 3 out of 4 metrics against Gaussian Naive Bayes model, both in the initial split as well as the cross validation. So Logistic Regression is better than Naive Bayes?\n",
    "\n",
    "#### NO \n",
    "\n",
    "No model is absolutely better than another one. This is specific to only this dataset, a different dataset might have given us a different result.  \n",
    "\n",
    "We must also remember to consider the goal of all this. Other than attempting for 30% marks of the module, the end goal of building this model might be to reduce the falsely predicted malignant cells. If that was the case, then the Naive Bayes has performed well. If the end goal was to have lesser false predictions overall, then the Logistic Regression takes the win. \n",
    "\n",
    "So to conclude, it all depends on the end goal that we are pursuing.\n",
    "\n",
    "### Future work\n",
    "\n",
    "There is more analysis that we could do for the dataset, like checking the duplicate rows in the dataset, etc. This might challenge the model and the accuracy would probably decrease. \n",
    "\n",
    "There are also more methods to detect which column is better suited for the classification. If you see the correlation table, some features have over 75% correlation amongst themselves. More research is needed to see if we could drop any of those columns to get better results."
   ]
  },
  {
   "cell_type": "markdown",
   "metadata": {},
   "source": [
    "------------------------------- THE END -------------------------------"
   ]
  },
  {
   "cell_type": "code",
   "execution_count": null,
   "metadata": {},
   "outputs": [],
   "source": []
  }
 ],
 "metadata": {
  "colab": {
   "authorship_tag": "ABX9TyPc6kyLBsMj9+n9/TcQ98XQ",
   "mount_file_id": "1McmQZxlBFztu9V3fm80mQTTzDOZYz7Vt",
   "provenance": []
  },
  "kernelspec": {
   "display_name": "Python 3 (ipykernel)",
   "language": "python",
   "name": "python3"
  },
  "language_info": {
   "codemirror_mode": {
    "name": "ipython",
    "version": 3
   },
   "file_extension": ".py",
   "mimetype": "text/x-python",
   "name": "python",
   "nbconvert_exporter": "python",
   "pygments_lexer": "ipython3",
   "version": "3.9.13"
  }
 },
 "nbformat": 4,
 "nbformat_minor": 1
}
